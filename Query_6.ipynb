{
 "cells": [
  {
   "cell_type": "code",
   "execution_count": 1,
   "id": "434c3638-a572-4e80-ba63-1b00dcac20f6",
   "metadata": {},
   "outputs": [],
   "source": [
    "# Load and activate the SQL extension to allow us to execute SQL in a Jupyter notebook. \n",
    "# If you get an error here, make sure that mysql and pymysql are installed correctly. \n",
    "\n",
    "%load_ext sql"
   ]
  },
  {
   "cell_type": "code",
   "execution_count": 2,
   "id": "fda74754-0bd9-4c6e-ba76-ea1863dcaaf6",
   "metadata": {},
   "outputs": [
    {
     "data": {
      "text/plain": [
       "'Connected: @TMDB.db'"
      ]
     },
     "execution_count": 2,
     "metadata": {},
     "output_type": "execute_result"
    }
   ],
   "source": [
    "# Establish a connection to the local database using the '%sql' magic command.\n",
    "# Replace 'password' with our connection password and `db_name` with our database name. \n",
    "# If you get an error here, please make sure the database name or password is correct.\n",
    "\n",
    "%sql sqlite:///TMDB.db"
   ]
  },
  {
   "cell_type": "markdown",
   "id": "c4ad89af-b93f-4e0a-8ac9-e8271deaeb81",
   "metadata": {},
   "source": [
    "### Question 6\n",
    "\n",
    "How many movies are there that were released between 1 August 2006 ('2006-08-01') and 1 October 2009 ('2009-10-01') that have a popularity score of more than 40 and a budget of less than 50 000 000?"
   ]
  },
  {
   "cell_type": "code",
   "execution_count": 3,
   "id": "3d3623e1-774a-4cc3-aba3-cf97995c3508",
   "metadata": {},
   "outputs": [
    {
     "name": "stdout",
     "output_type": "stream",
     "text": [
      " * sqlite:///TMDB.db\n",
      "Done.\n"
     ]
    },
    {
     "data": {
      "text/html": [
       "<table>\n",
       "    <thead>\n",
       "        <tr>\n",
       "            <th>qualified_movies</th>\n",
       "        </tr>\n",
       "    </thead>\n",
       "    <tbody>\n",
       "        <tr>\n",
       "            <td>29</td>\n",
       "        </tr>\n",
       "    </tbody>\n",
       "</table>"
      ],
      "text/plain": [
       "[(29,)]"
      ]
     },
     "execution_count": 3,
     "metadata": {},
     "output_type": "execute_result"
    }
   ],
   "source": [
    "%%sql\n",
    "\n",
    "SELECT\n",
    "    COUNT(*) AS qualified_movies\n",
    "FROM \n",
    "movies\n",
    "WHERE release_date BETWEEN '2006-08-01' AND '2009-10-01'\n",
    "  AND popularity > 40\n",
    "  AND budget < 50000000;\n"
   ]
  }
 ],
 "metadata": {
  "kernelspec": {
   "display_name": "Python 3 (ipykernel)",
   "language": "python",
   "name": "python3"
  },
  "language_info": {
   "codemirror_mode": {
    "name": "ipython",
    "version": 3
   },
   "file_extension": ".py",
   "mimetype": "text/x-python",
   "name": "python",
   "nbconvert_exporter": "python",
   "pygments_lexer": "ipython3",
   "version": "3.13.5"
  }
 },
 "nbformat": 4,
 "nbformat_minor": 5
}
