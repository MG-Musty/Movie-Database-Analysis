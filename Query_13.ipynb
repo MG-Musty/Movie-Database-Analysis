{
 "cells": [
  {
   "cell_type": "code",
   "execution_count": 1,
   "id": "350f354f-4cc9-4a0f-9a36-dd771933c855",
   "metadata": {},
   "outputs": [],
   "source": [
    "# Load and activate the SQL extension to allow us to execute SQL in a Jupyter notebook. \n",
    "# If you get an error here, make sure that mysql and pymysql are installed correctly. \n",
    "\n",
    "%load_ext sql"
   ]
  },
  {
   "cell_type": "code",
   "execution_count": 2,
   "id": "00db19b2-1d1d-4323-a002-4f4f618ea3e7",
   "metadata": {},
   "outputs": [
    {
     "data": {
      "text/plain": [
       "'Connected: @TMDB.db'"
      ]
     },
     "execution_count": 2,
     "metadata": {},
     "output_type": "execute_result"
    }
   ],
   "source": [
    "# Establish a connection to the local database using the '%sql' magic command.\n",
    "# Replace 'password' with our connection password and `db_name` with our database name. \n",
    "# If you get an error here, please make sure the database name or password is correct.\n",
    "\n",
    "%sql sqlite:///TMDB.db"
   ]
  },
  {
   "cell_type": "markdown",
   "id": "38859689-e284-44d9-821d-3e7bc49c0fbc",
   "metadata": {},
   "source": [
    "### Question 13\n",
    "\n",
    "DStv will be having a special week dedicated to the actor Alan Rickman. Write a query that would create a new _view_ that shows the titles, release dates, taglines, and overviews of all movies that Alan Rickman has played in?"
   ]
  },
  {
   "cell_type": "code",
   "execution_count": 3,
   "id": "35401d13-957f-4267-ba78-7c920a7bfe2e",
   "metadata": {},
   "outputs": [
    {
     "name": "stdout",
     "output_type": "stream",
     "text": [
      " * sqlite:///TMDB.db\n",
      "(sqlite3.OperationalError) view Alan_Rickman_Movies already exists\n",
      "[SQL: CREATE VIEW Alan_Rickman_Movies AS\n",
      "\n",
      "    SELECT \n",
      "        title, \n",
      "        release_date, \n",
      "        tagline, \n",
      "        overview \n",
      "    FROM \n",
      "        Movies\n",
      "    LEFT JOIN Casts ON Casts.movie_id = Movies.movie_id\n",
      "    LEFT JOIN Actors ON Casts.actor_id = Actors.actor_id\n",
      "\n",
      "    WHERE Actors.actor_name = 'Alan Rickman']\n",
      "(Background on this error at: https://sqlalche.me/e/14/e3q8)\n"
     ]
    }
   ],
   "source": [
    "%%sql\n",
    "CREATE VIEW Alan_Rickman_Movies AS\n",
    "    \n",
    "    SELECT \n",
    "        title, \n",
    "        release_date, \n",
    "        tagline, \n",
    "        overview \n",
    "    FROM \n",
    "        Movies\n",
    "    LEFT JOIN Casts ON Casts.movie_id = Movies.movie_id\n",
    "    LEFT JOIN Actors ON Casts.actor_id = Actors.actor_id\n",
    "\n",
    "    WHERE Actors.actor_name = 'Alan Rickman'\n"
   ]
  }
 ],
 "metadata": {
  "kernelspec": {
   "display_name": "Python 3 (ipykernel)",
   "language": "python",
   "name": "python3"
  },
  "language_info": {
   "codemirror_mode": {
    "name": "ipython",
    "version": 3
   },
   "file_extension": ".py",
   "mimetype": "text/x-python",
   "name": "python",
   "nbconvert_exporter": "python",
   "pygments_lexer": "ipython3",
   "version": "3.13.5"
  }
 },
 "nbformat": 4,
 "nbformat_minor": 5
}
