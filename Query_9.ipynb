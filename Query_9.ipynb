{
 "cells": [
  {
   "cell_type": "code",
   "execution_count": 1,
   "id": "ce0b2531-adee-495d-95c8-1807687d9b99",
   "metadata": {},
   "outputs": [],
   "source": [
    "# Load and activate the SQL extension to allow us to execute SQL in a Jupyter notebook. \n",
    "# If you get an error here, make sure that mysql and pymysql are installed correctly. \n",
    "\n",
    "%load_ext sql"
   ]
  },
  {
   "cell_type": "code",
   "execution_count": 2,
   "id": "71c2ad9e-e807-4234-811a-d09448c6aae1",
   "metadata": {},
   "outputs": [
    {
     "data": {
      "text/plain": [
       "'Connected: @TMDB.db'"
      ]
     },
     "execution_count": 2,
     "metadata": {},
     "output_type": "execute_result"
    }
   ],
   "source": [
    "# Establish a connection to the local database using the '%sql' magic command.\n",
    "# Replace 'password' with our connection password and `db_name` with our database name. \n",
    "# If you get an error here, please make sure the database name or password is correct.\n",
    "\n",
    "%sql sqlite:///TMDB.db"
   ]
  },
  {
   "cell_type": "code",
   "execution_count": 3,
   "id": "41ebe1ec-572a-4ec9-b855-2debfe0d5588",
   "metadata": {},
   "outputs": [
    {
     "name": "stdout",
     "output_type": "stream",
     "text": [
      "Object `database` not found.\n"
     ]
    }
   ],
   "source": [
    "### Question 9\n",
    "\n",
    "What are the three production companies that have the highest movie popularity score on average, as recorded within the database?"
   ]
  },
  {
   "cell_type": "code",
   "execution_count": 4,
   "id": "ba8d6e18-872b-493b-b981-5f2a81c53039",
   "metadata": {},
   "outputs": [
    {
     "name": "stdout",
     "output_type": "stream",
     "text": [
      " * sqlite:///TMDB.db\n",
      "Done.\n"
     ]
    },
    {
     "data": {
      "text/html": [
       "<table>\n",
       "    <thead>\n",
       "        <tr>\n",
       "            <th>production_company_name</th>\n",
       "            <th>avg_popularity</th>\n",
       "        </tr>\n",
       "    </thead>\n",
       "    <tbody>\n",
       "        <tr>\n",
       "            <td>The Donners&#x27; Company</td>\n",
       "            <td>514.569956</td>\n",
       "        </tr>\n",
       "        <tr>\n",
       "            <td>Bulletproof Cupid</td>\n",
       "            <td>481.098624</td>\n",
       "        </tr>\n",
       "        <tr>\n",
       "            <td>Kinberg Genre</td>\n",
       "            <td>326.92099900000005</td>\n",
       "        </tr>\n",
       "    </tbody>\n",
       "</table>"
      ],
      "text/plain": [
       "[(\"The Donners' Company\", 514.569956),\n",
       " ('Bulletproof Cupid', 481.098624),\n",
       " ('Kinberg Genre', 326.92099900000005)]"
      ]
     },
     "execution_count": 4,
     "metadata": {},
     "output_type": "execute_result"
    }
   ],
   "source": [
    "%%sql\n",
    "\n",
    "SELECT \n",
    "    pc.production_company_name,\n",
    "    AVG(m.popularity) AS avg_popularity\n",
    "FROM\n",
    "    movies m\n",
    "JOIN\n",
    "    productioncompanymap pcm \n",
    "    ON m.movie_id = pcm.movie_id\n",
    "JOIN \n",
    "    productioncompanies pc \n",
    "    ON pcm.production_company_id = pc.production_company_id\n",
    "GROUP BY \n",
    "    pc.production_company_name\n",
    "ORDER BY \n",
    "    avg_popularity DESC\n",
    "LIMIT 3;"
   ]
  }
 ],
 "metadata": {
  "kernelspec": {
   "display_name": "Python 3 (ipykernel)",
   "language": "python",
   "name": "python3"
  },
  "language_info": {
   "codemirror_mode": {
    "name": "ipython",
    "version": 3
   },
   "file_extension": ".py",
   "mimetype": "text/x-python",
   "name": "python",
   "nbconvert_exporter": "python",
   "pygments_lexer": "ipython3",
   "version": "3.13.5"
  }
 },
 "nbformat": 4,
 "nbformat_minor": 5
}
