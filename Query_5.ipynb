{
 "cells": [
  {
   "cell_type": "code",
   "execution_count": 1,
   "id": "0199f89a-b3f5-43cb-8fe7-61f31ea9050b",
   "metadata": {},
   "outputs": [],
   "source": [
    "# Load and activate the SQL extension to allow us to execute SQL in a Jupyter notebook. \n",
    "# If you get an error here, make sure that mysql and pymysql are installed correctly. \n",
    "\n",
    "%load_ext sql"
   ]
  },
  {
   "cell_type": "code",
   "execution_count": 2,
   "id": "00090e67-07c7-49ae-9816-708cf7940745",
   "metadata": {},
   "outputs": [
    {
     "data": {
      "text/plain": [
       "'Connected: @TMDB.db'"
      ]
     },
     "execution_count": 2,
     "metadata": {},
     "output_type": "execute_result"
    }
   ],
   "source": [
    "# Establish a connection to the local database using the '%sql' magic command.\n",
    "# Replace 'password' with our connection password and `db_name` with our database name. \n",
    "# If you get an error here, please make sure the database name or password is correct.\n",
    "\n",
    "%sql sqlite:///TMDB.db"
   ]
  },
  {
   "cell_type": "markdown",
   "id": "33f7571e-332e-465c-8d1c-11ec9bf0ca22",
   "metadata": {},
   "source": [
    "### Question 5\n",
    "\n",
    "How many movies are there that are both in the \"Thriller\" genre and contain the word “love” anywhere in the keywords?\n"
   ]
  },
  {
   "cell_type": "code",
   "execution_count": 3,
   "id": "5c968e7c-81d0-443a-a7c1-44df81665ed5",
   "metadata": {},
   "outputs": [
    {
     "name": "stdout",
     "output_type": "stream",
     "text": [
      " * sqlite:///TMDB.db\n",
      "Done.\n"
     ]
    },
    {
     "data": {
      "text/html": [
       "<table>\n",
       "    <thead>\n",
       "        <tr>\n",
       "            <th>thriller_love_movies</th>\n",
       "        </tr>\n",
       "    </thead>\n",
       "    <tbody>\n",
       "        <tr>\n",
       "            <td>48</td>\n",
       "        </tr>\n",
       "    </tbody>\n",
       "</table>"
      ],
      "text/plain": [
       "[(48,)]"
      ]
     },
     "execution_count": 3,
     "metadata": {},
     "output_type": "execute_result"
    }
   ],
   "source": [
    "%%sql\n",
    "\n",
    "SELECT \n",
    "    COUNT(DISTINCT m.movie_id) AS thriller_love_movies\n",
    "FROM\n",
    "    movies m\n",
    "JOIN \n",
    "    genremap gm \n",
    "    ON m.movie_id = gm.movie_id\n",
    "JOIN \n",
    "    genres g \n",
    "    ON gm.genre_id = g.genre_id\n",
    "JOIN \n",
    "    keywordmap km \n",
    "    ON m.movie_id = km.movie_id\n",
    "JOIN \n",
    "    keywords k \n",
    "    ON km.keyword_id = k.keyword_id\n",
    "WHERE\n",
    "    g.genre_name = 'Thriller'\n",
    "    AND k.keyword_name LIKE '%love%';\n"
   ]
  }
 ],
 "metadata": {
  "kernelspec": {
   "display_name": "Python 3 (ipykernel)",
   "language": "python",
   "name": "python3"
  },
  "language_info": {
   "codemirror_mode": {
    "name": "ipython",
    "version": 3
   },
   "file_extension": ".py",
   "mimetype": "text/x-python",
   "name": "python",
   "nbconvert_exporter": "python",
   "pygments_lexer": "ipython3",
   "version": "3.13.5"
  }
 },
 "nbformat": 4,
 "nbformat_minor": 5
}
